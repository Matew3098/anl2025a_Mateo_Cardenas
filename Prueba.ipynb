{
 "cells": [
  {
   "cell_type": "code",
   "execution_count": 36,
   "id": "38569f5f",
   "metadata": {},
   "outputs": [],
   "source": [
    "import numpy as np\n",
    "def hilbert(n):\n",
    "    A = np.zeros((n,n))\n",
    "    for i in range(n):\n",
    "        for j in range(n):\n",
    "            A[i,j] = 1/(i+j+1) #debido a la correccion de rangos sumamos 1 a i y 1 a j entonces obtenemos i+j+1\n",
    "    return A"
   ]
  },
  {
   "cell_type": "code",
   "execution_count": 37,
   "id": "822af28c",
   "metadata": {},
   "outputs": [
    {
     "name": "stdout",
     "output_type": "stream",
     "text": [
      "[[1.         0.5        0.33333333 ... 0.01020408 0.01010101 0.01      ]\n",
      " [0.5        0.33333333 0.25       ... 0.01010101 0.01       0.00990099]\n",
      " [0.33333333 0.25       0.2        ... 0.01       0.00990099 0.00980392]\n",
      " ...\n",
      " [0.01020408 0.01010101 0.01       ... 0.00512821 0.00510204 0.00507614]\n",
      " [0.01010101 0.01       0.00990099 ... 0.00510204 0.00507614 0.00505051]\n",
      " [0.01       0.00990099 0.00980392 ... 0.00507614 0.00505051 0.00502513]]\n"
     ]
    }
   ],
   "source": [
    "print(hilbert(100))"
   ]
  },
  {
   "cell_type": "code",
   "execution_count": null,
   "id": "f707c53a",
   "metadata": {},
   "outputs": [],
   "source": [
    "def Gauss_Seidel(A, b, x_0, tol=1e-10):\n",
    "    x = x_0.astype(float).copy()\n",
    "    k = 0\n",
    "    norm_x = []\n",
    "    norm_r = []\n",
    "    while np.linalg.norm(b - A @ x) > tol and k < 500: #criterio de residuos y de cantidad maxima de iteraciones   \n",
    "        for i in range(len(A)):\n",
    "            s1 = 0\n",
    "            s2 = 0\n",
    "            for j in range(0, i):\n",
    "                s1 += A[i, j] * x[j]  \n",
    "            for j in range(i + 1, len(A)):\n",
    "                s2 += A[i, j] * x[j] \n",
    "            x[i] = (b[i] - s1 - s2) / A[i, i]\n",
    "        k += 1\n",
    "        norm_x.append(np.linalg.norm(x))\n",
    "        norm_r.append(np.linalg.norm(b - A@x))\n",
    "        #print(f\"Iteration {k}: x = {x}, Residual = {np.linalg.norm(b - A @ x)}\")\n",
    "    return x, norm_x, norm_r"
   ]
  },
  {
   "cell_type": "code",
   "execution_count": 47,
   "id": "af31b90c",
   "metadata": {},
   "outputs": [],
   "source": [
    "A = hilbert(100)\n",
    "b = np.ones(100)\n",
    "x0 = np.zeros_like(b)\n",
    "x, norm_x, norm_r = Gauss_Seidel(A,b,x0,1e-10)"
   ]
  },
  {
   "cell_type": "markdown",
   "id": "1a2b60d4",
   "metadata": {},
   "source": []
  }
 ],
 "metadata": {
  "kernelspec": {
   "display_name": "venv (3.13.2)",
   "language": "python",
   "name": "python3"
  },
  "language_info": {
   "codemirror_mode": {
    "name": "ipython",
    "version": 3
   },
   "file_extension": ".py",
   "mimetype": "text/x-python",
   "name": "python",
   "nbconvert_exporter": "python",
   "pygments_lexer": "ipython3",
   "version": "3.13.2"
  }
 },
 "nbformat": 4,
 "nbformat_minor": 5
}
